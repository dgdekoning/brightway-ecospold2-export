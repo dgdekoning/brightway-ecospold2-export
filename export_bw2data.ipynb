{
 "cells": [
  {
   "cell_type": "code",
   "execution_count": null,
   "metadata": {},
   "outputs": [],
   "source": [
    "from pathlib import Path\n",
    "\n",
    "import brightway2 as bw\n",
    "\n",
    "from src.exporter import Ecospold2Manager\n",
    "from src.utils import clear_single_lists"
   ]
  },
  {
   "cell_type": "code",
   "execution_count": null,
   "metadata": {},
   "outputs": [],
   "source": []
  },
  {
   "cell_type": "code",
   "execution_count": null,
   "metadata": {},
   "outputs": [],
   "source": [
    "bw.projects.set_current(\"firstproject\")"
   ]
  },
  {
   "cell_type": "code",
   "execution_count": null,
   "metadata": {},
   "outputs": [],
   "source": [
    "# Set the path for to the folder containing all of the EcoSpold2 schema files.\n",
    "base_url = Path.cwd() / \"schemas\" / \"datasets\"\n",
    "db_name = \"example_export\"\n",
    "mng = Ecospold2Manager.initialize(base_url, db_name)"
   ]
  },
  {
   "cell_type": "code",
   "execution_count": null,
   "metadata": {},
   "outputs": [],
   "source": [
    "# Export the processed database to XML-like spold files.\n",
    "export_path = Path.cwd() / \"custom\"\n",
    "mng.export_data_as_xml(export_path)"
   ]
  },
  {
   "cell_type": "code",
   "execution_count": null,
   "metadata": {},
   "outputs": [],
   "source": []
  },
  {
   "cell_type": "code",
   "execution_count": null,
   "metadata": {},
   "outputs": [],
   "source": [
    "# Look at one of the exported documents to see if everything is okay.\n",
    "doc = export_path / \"activity_0.spold\"\n",
    "print(f\"The given document is valid? {mng.schemas.is_valid(str(doc))}\")"
   ]
  },
  {
   "cell_type": "code",
   "execution_count": null,
   "metadata": {},
   "outputs": [],
   "source": [
    "# If valid, extract the data into a dictionary\n",
    "data = mng.schemas.to_dict(\n",
    "    str(doc), dict_class=dict, namespaces=mng.DEFAULT_NAMESPACES\n",
    ")\n",
    "# Alter the data to remove the superfluous lists\n",
    "data = clear_single_lists(data)"
   ]
  },
  {
   "cell_type": "code",
   "execution_count": null,
   "metadata": {},
   "outputs": [],
   "source": [
    "data"
   ]
  },
  {
   "cell_type": "code",
   "execution_count": null,
   "metadata": {},
   "outputs": [],
   "source": []
  },
  {
   "cell_type": "code",
   "execution_count": null,
   "metadata": {},
   "outputs": [],
   "source": [
    "# Try the import by hand\n",
    "bw.projects.set_current(\"otherproject\")\n",
    "if \"biosphere3\" not in bw.databases:\n",
    "    bw.bw2setup()\n",
    "imp = bw.SingleOutputEcospold2Importer(export_path, db_name=\"example_import\")"
   ]
  },
  {
   "cell_type": "code",
   "execution_count": null,
   "metadata": {},
   "outputs": [],
   "source": [
    "imp.apply_strategies()"
   ]
  },
  {
   "cell_type": "code",
   "execution_count": null,
   "metadata": {},
   "outputs": [],
   "source": [
    "imp.data"
   ]
  },
  {
   "cell_type": "code",
   "execution_count": null,
   "metadata": {},
   "outputs": [],
   "source": [
    "if imp.statistics[2] == 0:\n",
    "    imp.write_database()"
   ]
  },
  {
   "cell_type": "code",
   "execution_count": null,
   "metadata": {},
   "outputs": [],
   "source": []
  }
 ],
 "metadata": {
  "kernelspec": {
   "display_name": "Python 3",
   "language": "python",
   "name": "python3"
  },
  "language_info": {
   "codemirror_mode": {
    "name": "ipython",
    "version": 3
   },
   "file_extension": ".py",
   "mimetype": "text/x-python",
   "name": "python",
   "nbconvert_exporter": "python",
   "pygments_lexer": "ipython3",
   "version": "3.7.9"
  }
 },
 "nbformat": 4,
 "nbformat_minor": 2
}
